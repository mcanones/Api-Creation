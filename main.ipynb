{
 "cells": [
  {
   "cell_type": "markdown",
   "metadata": {},
   "source": [
    "# API project"
   ]
  },
  {
   "cell_type": "markdown",
   "metadata": {},
   "source": [
    "## 1. Import libraries"
   ]
  },
  {
   "cell_type": "code",
   "execution_count": 1,
   "metadata": {},
   "outputs": [],
   "source": [
    "import requests\n",
    "from bson import ObjectId"
   ]
  },
  {
   "cell_type": "markdown",
   "metadata": {},
   "source": [
    "## 1. Create Users"
   ]
  },
  {
   "cell_type": "markdown",
   "metadata": {},
   "source": [
    "The objective of this request is to add a new user in the table `Users`. You can add few users with the same name, but they will have different **_id**."
   ]
  },
  {
   "cell_type": "code",
   "execution_count": 2,
   "metadata": {},
   "outputs": [
    {
     "name": "stdout",
     "output_type": "stream",
     "text": [
      "{'Result': 'Inserted Geralt - ID: 5eaf2e0d60759af624578a67'}\n",
      "{'Result': 'Inserted Triss - ID: 5eaf2e0e60759af624578a68'}\n",
      "{'Result': 'Inserted Jaskier - ID: 5eaf2e0e60759af624578a69'}\n",
      "{'Result': 'Inserted Filavandrel - ID: 5eaf2e0f60759af624578a6a'}\n",
      "{'Result': 'Inserted Toruviel - ID: 5eaf2e0f60759af624578a6b'}\n",
      "{'Result': 'Inserted Torque - ID: 5eaf2e0f60759af624578a6c'}\n"
     ]
    }
   ],
   "source": [
    "users=[\"Geralt\", \"Triss\", \"Jaskier\", \"Filavandrel\", \"Toruviel\", \"Torque\"]\n",
    "for name in users:\n",
    "    print(requests.get(f\"http://localhost:3500/user/create/{name}\").json())  "
   ]
  },
  {
   "cell_type": "code",
   "execution_count": 3,
   "metadata": {},
   "outputs": [
    {
     "name": "stdout",
     "output_type": "stream",
     "text": [
      "{'Result': 'Inserted Tissaia - ID: 5eaf2e0f60759af624578a6d'}\n",
      "{'Result': 'Inserted Yennefer - ID: 5eaf2e0f60759af624578a6e'}\n",
      "{'Result': 'Inserted Fringilla - ID: 5eaf2e0f60759af624578a6f'}\n",
      "{'Result': 'Inserted Anica - ID: 5eaf2e0f60759af624578a70'}\n"
     ]
    }
   ],
   "source": [
    "users=[\"Tissaia\", \"Yennefer\", \"Fringilla\", \"Anica\"]\n",
    "for name in users:\n",
    "    print(requests.get(f\"http://localhost:3500/user/create/{name}\").json())  "
   ]
  },
  {
   "cell_type": "markdown",
   "metadata": {},
   "source": [
    "## 2. Create Chat"
   ]
  },
  {
   "cell_type": "markdown",
   "metadata": {},
   "source": [
    "Knowing the users (IDs) to be in the chat, this request introduces a row in the `Chats` table with the specified ids in the column **members**."
   ]
  },
  {
   "cell_type": "code",
   "execution_count": 4,
   "metadata": {},
   "outputs": [
    {
     "data": {
      "text/plain": [
       "{'result': 'You have created a chat',\n",
       " 'Chat ID': '5eaf2e1060759af624578a71',\n",
       " 'Members': 4}"
      ]
     },
     "execution_count": 4,
     "metadata": {},
     "output_type": "execute_result"
    }
   ],
   "source": [
    "users_chat =['5eadcc0b4645f34974e56780',\n",
    "             '5eadcc0b4645f34974e56781',\n",
    "             '5eadcc0b4645f34974e56782',\n",
    "             '5eadcc0b4645f34974e56783']\n",
    "users_chat = ','.join(users_chat)\n",
    "parameters = {\"users_ids\":users_chat}\n",
    "requests.get(\"http://localhost:3500/chat/create\", params=parameters).json()"
   ]
  },
  {
   "cell_type": "markdown",
   "metadata": {},
   "source": [
    "What happens if you try to create a chat with users that are not in the database?"
   ]
  },
  {
   "cell_type": "code",
   "execution_count": 5,
   "metadata": {},
   "outputs": [
    {
     "data": {
      "text/plain": [
       "{'Result': 'You are trying to create a chat with users that are not in de DB'}"
      ]
     },
     "execution_count": 5,
     "metadata": {},
     "output_type": "execute_result"
    }
   ],
   "source": [
    "users_chat =['5ead8f1f2eb08989c88ecdc1',\n",
    "             '5ead8f1f2eb08989c88ecdd2',\n",
    "             '5ead8f1f2eb08989c88ecdd3']\n",
    "users_chat = ','.join(users_chat)\n",
    "parameters = {\"users_ids\":users_chat}\n",
    "requests.get(\"http://localhost:3500/chat/create\", params=parameters).json()"
   ]
  },
  {
   "cell_type": "markdown",
   "metadata": {},
   "source": [
    "## 3. Add user in a pre-existing chat"
   ]
  },
  {
   "cell_type": "markdown",
   "metadata": {},
   "source": [
    "Let's say a new member entered in one of the chats. Let's introduce this member in the members colum in the `Chats` table."
   ]
  },
  {
   "cell_type": "code",
   "execution_count": 6,
   "metadata": {
    "scrolled": true
   },
   "outputs": [
    {
     "data": {
      "text/plain": [
       "{'Result': 'You have introduced a user',\n",
       " 'In Chat': '5eadb94fbbbaa3faa1599730',\n",
       " 'User ID': '5eaf2dc381e52ac0a17c3171'}"
      ]
     },
     "execution_count": 6,
     "metadata": {},
     "output_type": "execute_result"
    }
   ],
   "source": [
    "parameters = {\"user_id\":'5eaf2dc381e52ac0a17c3171'}\n",
    "chat_id='5eadb94fbbbaa3faa1599730'\n",
    "requests.get(f\"http://localhost:3500/chat/{chat_id}/adduser\", params=parameters).json()"
   ]
  },
  {
   "cell_type": "markdown",
   "metadata": {},
   "source": [
    "What happens if you try to add an user that is not in the database or is already a chat member?"
   ]
  },
  {
   "cell_type": "code",
   "execution_count": 7,
   "metadata": {},
   "outputs": [
    {
     "data": {
      "text/plain": [
       "{'message': 'User_id is not in the DB', 'status': 'error'}"
      ]
     },
     "execution_count": 7,
     "metadata": {},
     "output_type": "execute_result"
    }
   ],
   "source": [
    "parameters = {\"user_id\":'5ead8f1f2eb08989c88ecdd7'} #Not in the database\n",
    "chat_id='5eadb94fbbbaa3faa1599730' \n",
    "requests.get(f\"http://localhost:3500/chat/{chat_id}/adduser\", params=parameters).json()"
   ]
  },
  {
   "cell_type": "code",
   "execution_count": 8,
   "metadata": {},
   "outputs": [
    {
     "data": {
      "text/plain": [
       "{'message': 'User_id is already in the chat', 'status': 'error'}"
      ]
     },
     "execution_count": 8,
     "metadata": {},
     "output_type": "execute_result"
    }
   ],
   "source": [
    "parameters = {\"user_id\":'5eada20b9b27ff529f8d56b7'} #Already chat member\n",
    "chat_id='5eadb94fbbbaa3faa1599730' \n",
    "requests.get(f\"http://localhost:3500/chat/{chat_id}/adduser\", params=parameters).json()"
   ]
  },
  {
   "cell_type": "markdown",
   "metadata": {},
   "source": [
    "What happens if you make a mistake and you put a chat id that is not in the database?"
   ]
  },
  {
   "cell_type": "code",
   "execution_count": 9,
   "metadata": {},
   "outputs": [
    {
     "data": {
      "text/plain": [
       "{'message': 'Chat_id not found', 'status': 'error'}"
      ]
     },
     "execution_count": 9,
     "metadata": {},
     "output_type": "execute_result"
    }
   ],
   "source": [
    "parameters = {\"user_id\":'5ead8f1f2eb08989c88ecdcf'} \n",
    "chat_id='5eada2509b27ff529f8d56ba' #Not in database\n",
    "requests.get(f\"http://localhost:3500/chat/{chat_id}/adduser\", params=parameters).json()"
   ]
  },
  {
   "cell_type": "markdown",
   "metadata": {},
   "source": [
    "## 4. Add message"
   ]
  },
  {
   "cell_type": "markdown",
   "metadata": {},
   "source": [
    "With this request a row will be introduced in the table `Messages`. When introducing a message, a pre-trained neural network with NLTK sentiment analysis studies the content in the text and returns a score (positive, neutral or negative content)."
   ]
  },
  {
   "cell_type": "code",
   "execution_count": 10,
   "metadata": {},
   "outputs": [
    {
     "data": {
      "text/plain": [
       "{'Result': 'You have inserted a message',\n",
       " 'With ID': '5eaf2e1260759af624578a72',\n",
       " 'In Chat': '5eadcc454645f34974e56784',\n",
       " 'From User': '5eadcc0b4645f34974e56781',\n",
       " 'Name User': 'Yennefer',\n",
       " 'Content': 'Like us?',\n",
       " 'Date': '2020-05-03 22:48:18.563587'}"
      ]
     },
     "execution_count": 10,
     "metadata": {},
     "output_type": "execute_result"
    }
   ],
   "source": [
    "#Yennefer\n",
    "data={'user_id':'5eadcc0b4645f34974e56781',\n",
    "      'text':'Like us?'}\n",
    "chat_id='5eadcc454645f34974e56784'\n",
    "requests.post(f\"http://localhost:3500/chat/{chat_id}/addmessage\", data=data).json()"
   ]
  },
  {
   "cell_type": "markdown",
   "metadata": {},
   "source": [
    "## 5. Obtain all the messages in a chat "
   ]
  },
  {
   "cell_type": "code",
   "execution_count": 11,
   "metadata": {
    "scrolled": true
   },
   "outputs": [
    {
     "data": {
      "text/plain": [
       "[{'name': 'Jaskier', 'message': 'This is the part where we escape.'},\n",
       " {'name': 'Geralt', 'message': 'This is the part where they kill us.'},\n",
       " {'name': 'Jaskier', 'message': 'Who’s they?'},\n",
       " {'name': 'Toruviel', 'message': 'Beast!'},\n",
       " {'name': 'Geralt', 'message': 'Elves.'},\n",
       " {'name': 'Jaskier',\n",
       "  'message': 'Oi, that’s my lute. Give that back. Quick, Geralt. Do your- your witchering-'},\n",
       " {'name': 'Geralt', 'message': ' Shut up!'},\n",
       " {'name': 'Jaskier', 'message': 'No.'},\n",
       " {'name': 'Toruviel', 'message': 'You shut up!'},\n",
       " {'name': 'Jaskier',\n",
       "  'message': ' my Elder speech is rough. I only got part of that.'},\n",
       " {'name': 'Toruviel', 'message': 'Humans, shut up.'},\n",
       " {'name': 'Jaskier', 'message': 'Ah, got it, thanks so much.'},\n",
       " {'name': 'Toruviel', 'message': 'Do you wanna die right now?'},\n",
       " {'name': 'Geralt', 'message': 'As opposed to later?'},\n",
       " {'name': 'Jaskier', 'message': 'No, please, not the...'},\n",
       " {'name': 'Geralt', 'message': 'Leave off! He’s just a bard.'},\n",
       " {'name': 'Toruviel',\n",
       "  'message': 'You don’t deserve the air your breathe. Everything you touch, you destroy.'},\n",
       " {'name': 'Jaskier',\n",
       "  'message': 'You hide in your golden palaces. You beat a bound man, too scared to even look him in the eye!'},\n",
       " {'name': 'Toruviel',\n",
       "  'message': 'Do you like my place? Hmm? Does it live up to the tales you humans tell?'},\n",
       " {'name': 'Jaskier', 'message': 'Yeah, take that, pointy.'},\n",
       " {'name': 'Jaskier', 'message': 'what’s wrong with her?'},\n",
       " {'name': 'Filavandrel', 'message': 'She’s sick.'},\n",
       " {'name': 'Jaskier', 'message': 'Oh, and who’s this?'},\n",
       " {'name': 'Torque', 'message': 'He’s Filavandrel, King of the Elves.'},\n",
       " {'name': 'Filavandrel', 'message': 'Not a king. Not by choice.'},\n",
       " {'name': 'Geralt', 'message': 'You were stealing for them.'},\n",
       " {'name': 'Torque',\n",
       "  'message': 'I felt for them. They were forced out of Dol Blathanna.'},\n",
       " {'name': 'Jaskier', 'message': 'Forced out? No, they chose'},\n",
       " {'name': 'Filavandrel',\n",
       "  'message': 'Do you know anyone that would choose to leave their home? To Starve? To have a Sylvan steal for them?'},\n",
       " {'name': 'Torque', 'message': 'Toruviel, no one was supposed to get hurt.'},\n",
       " {'name': 'Toruviel',\n",
       "  'message': ' What’s two humans in the ground when countless elves have died?'},\n",
       " {'name': 'Geralt', 'message': 'One human. And you can let him go.'}]"
      ]
     },
     "execution_count": 11,
     "metadata": {},
     "output_type": "execute_result"
    }
   ],
   "source": [
    "chat_id='5eadb94fbbbaa3faa1599730'\n",
    "requests.get(f\"http://localhost:3500/chat/{chat_id}/list\").json()"
   ]
  },
  {
   "cell_type": "markdown",
   "metadata": {},
   "source": [
    "## 6. Sentiments in a chat"
   ]
  },
  {
   "cell_type": "markdown",
   "metadata": {},
   "source": [
    "This request shows all the messages in a chat and the positive/neutral/negative score applied to them according to the NLTK lexicum applied (Vader in this case). It also shows the average scores for the whole chat. "
   ]
  },
  {
   "cell_type": "code",
   "execution_count": 12,
   "metadata": {},
   "outputs": [
    {
     "data": {
      "text/plain": [
       "{'Average Score Chat': {'Negative': 0.26871875,\n",
       "  'Neutral': 0.6617812500000002,\n",
       "  'Positive': 0.0695},\n",
       " 'Messages': [{'name': 'Jaskier',\n",
       "   'message': 'This is the part where we escape.',\n",
       "   'negative_score': 0.0,\n",
       "   'neutral_score': 0.541,\n",
       "   'positive_score': 0.459},\n",
       "  {'name': 'Geralt',\n",
       "   'message': 'This is the part where they kill us.',\n",
       "   'negative_score': 0.61,\n",
       "   'neutral_score': 0.39,\n",
       "   'positive_score': 0.0},\n",
       "  {'name': 'Jaskier',\n",
       "   'message': 'Who’s they?',\n",
       "   'negative_score': 0.0,\n",
       "   'neutral_score': 1.0,\n",
       "   'positive_score': 0.0},\n",
       "  {'name': 'Toruviel',\n",
       "   'message': 'Beast!',\n",
       "   'negative_score': 0.0,\n",
       "   'neutral_score': 1.0,\n",
       "   'positive_score': 0.0},\n",
       "  {'name': 'Geralt',\n",
       "   'message': 'Elves.',\n",
       "   'negative_score': 0.0,\n",
       "   'neutral_score': 1.0,\n",
       "   'positive_score': 0.0},\n",
       "  {'name': 'Jaskier',\n",
       "   'message': 'Oi, that’s my lute. Give that back. Quick, Geralt. Do your- your witchering-',\n",
       "   'negative_score': 0.0,\n",
       "   'neutral_score': 1.0,\n",
       "   'positive_score': 0.0},\n",
       "  {'name': 'Geralt',\n",
       "   'message': ' Shut up!',\n",
       "   'negative_score': 0.0,\n",
       "   'neutral_score': 1.0,\n",
       "   'positive_score': 0.0},\n",
       "  {'name': 'Jaskier',\n",
       "   'message': 'No.',\n",
       "   'negative_score': 1.0,\n",
       "   'neutral_score': 0.0,\n",
       "   'positive_score': 0.0},\n",
       "  {'name': 'Toruviel',\n",
       "   'message': 'You shut up!',\n",
       "   'negative_score': 0.0,\n",
       "   'neutral_score': 1.0,\n",
       "   'positive_score': 0.0},\n",
       "  {'name': 'Jaskier',\n",
       "   'message': ' my Elder speech is rough. I only got part of that.',\n",
       "   'negative_score': 0.0,\n",
       "   'neutral_score': 1.0,\n",
       "   'positive_score': 0.0},\n",
       "  {'name': 'Toruviel',\n",
       "   'message': 'Humans, shut up.',\n",
       "   'negative_score': 0.0,\n",
       "   'neutral_score': 1.0,\n",
       "   'positive_score': 0.0},\n",
       "  {'name': 'Jaskier',\n",
       "   'message': 'Ah, got it, thanks so much.',\n",
       "   'negative_score': 0.0,\n",
       "   'neutral_score': 0.508,\n",
       "   'positive_score': 0.492},\n",
       "  {'name': 'Toruviel',\n",
       "   'message': 'Do you wanna die right now?',\n",
       "   'negative_score': 0.565,\n",
       "   'neutral_score': 0.435,\n",
       "   'positive_score': 0.0},\n",
       "  {'name': 'Geralt',\n",
       "   'message': 'As opposed to later?',\n",
       "   'negative_score': 0.0,\n",
       "   'neutral_score': 1.0,\n",
       "   'positive_score': 0.0},\n",
       "  {'name': 'Jaskier',\n",
       "   'message': 'No, please, not the...',\n",
       "   'negative_score': 0.489,\n",
       "   'neutral_score': 0.0,\n",
       "   'positive_score': 0.511},\n",
       "  {'name': 'Geralt',\n",
       "   'message': 'Leave off! He’s just a bard.',\n",
       "   'negative_score': 0.375,\n",
       "   'neutral_score': 0.625,\n",
       "   'positive_score': 0.0},\n",
       "  {'name': 'Toruviel',\n",
       "   'message': 'You don’t deserve the air your breathe. Everything you touch, you destroy.',\n",
       "   'negative_score': 0.333,\n",
       "   'neutral_score': 0.667,\n",
       "   'positive_score': 0.0},\n",
       "  {'name': 'Jaskier',\n",
       "   'message': 'You hide in your golden palaces. You beat a bound man, too scared to even look him in the eye!',\n",
       "   'negative_score': 0.338,\n",
       "   'neutral_score': 0.662,\n",
       "   'positive_score': 0.0},\n",
       "  {'name': 'Toruviel',\n",
       "   'message': 'Do you like my place? Hmm? Does it live up to the tales you humans tell?',\n",
       "   'negative_score': 0.0,\n",
       "   'neutral_score': 0.762,\n",
       "   'positive_score': 0.238},\n",
       "  {'name': 'Jaskier',\n",
       "   'message': 'Yeah, take that, pointy.',\n",
       "   'negative_score': 0.0,\n",
       "   'neutral_score': 0.476,\n",
       "   'positive_score': 0.524},\n",
       "  {'name': 'Jaskier',\n",
       "   'message': 'what’s wrong with her?',\n",
       "   'negative_score': 0.756,\n",
       "   'neutral_score': 0.244,\n",
       "   'positive_score': 0.0},\n",
       "  {'name': 'Filavandrel',\n",
       "   'message': 'She’s sick.',\n",
       "   'negative_score': 0.767,\n",
       "   'neutral_score': 0.233,\n",
       "   'positive_score': 0.0},\n",
       "  {'name': 'Jaskier',\n",
       "   'message': 'Oh, and who’s this?',\n",
       "   'negative_score': 0.0,\n",
       "   'neutral_score': 1.0,\n",
       "   'positive_score': 0.0},\n",
       "  {'name': 'Torque',\n",
       "   'message': 'He’s Filavandrel, King of the Elves.',\n",
       "   'negative_score': 0.0,\n",
       "   'neutral_score': 1.0,\n",
       "   'positive_score': 0.0},\n",
       "  {'name': 'Filavandrel',\n",
       "   'message': 'Not a king. Not by choice.',\n",
       "   'negative_score': 0.0,\n",
       "   'neutral_score': 1.0,\n",
       "   'positive_score': 0.0},\n",
       "  {'name': 'Geralt',\n",
       "   'message': 'You were stealing for them.',\n",
       "   'negative_score': 0.787,\n",
       "   'neutral_score': 0.213,\n",
       "   'positive_score': 0.0},\n",
       "  {'name': 'Torque',\n",
       "   'message': 'I felt for them. They were forced out of Dol Blathanna.',\n",
       "   'negative_score': 0.429,\n",
       "   'neutral_score': 0.571,\n",
       "   'positive_score': 0.0},\n",
       "  {'name': 'Jaskier',\n",
       "   'message': 'Forced out? No, they chose',\n",
       "   'negative_score': 0.839,\n",
       "   'neutral_score': 0.161,\n",
       "   'positive_score': 0.0},\n",
       "  {'name': 'Filavandrel',\n",
       "   'message': 'Do you know anyone that would choose to leave their home? To Starve? To have a Sylvan steal for them?',\n",
       "   'negative_score': 0.477,\n",
       "   'neutral_score': 0.523,\n",
       "   'positive_score': 0.0},\n",
       "  {'name': 'Torque',\n",
       "   'message': 'Toruviel, no one was supposed to get hurt.',\n",
       "   'negative_score': 0.459,\n",
       "   'neutral_score': 0.541,\n",
       "   'positive_score': 0.0},\n",
       "  {'name': 'Toruviel',\n",
       "   'message': ' What’s two humans in the ground when countless elves have died?',\n",
       "   'negative_score': 0.375,\n",
       "   'neutral_score': 0.625,\n",
       "   'positive_score': 0.0},\n",
       "  {'name': 'Geralt',\n",
       "   'message': 'One human. And you can let him go.',\n",
       "   'negative_score': 0.0,\n",
       "   'neutral_score': 1.0,\n",
       "   'positive_score': 0.0}]}"
      ]
     },
     "execution_count": 12,
     "metadata": {},
     "output_type": "execute_result"
    }
   ],
   "source": [
    "chat_id='5eadb94fbbbaa3faa1599730'\n",
    "requests.get(f\"http://localhost:3500/chat/{chat_id}/sentiment\").json()"
   ]
  },
  {
   "cell_type": "markdown",
   "metadata": {},
   "source": [
    "What happens if you try to get the sentimens of a chat that is not in the DB?"
   ]
  },
  {
   "cell_type": "code",
   "execution_count": 13,
   "metadata": {
    "scrolled": true
   },
   "outputs": [
    {
     "data": {
      "text/plain": [
       "{'message': 'chat_id not found', 'status': 'error'}"
      ]
     },
     "execution_count": 13,
     "metadata": {},
     "output_type": "execute_result"
    }
   ],
   "source": [
    "chat_id='5eac4b041d3b47e21798aba4'\n",
    "requests.get(f\"http://localhost:3500/chat/{chat_id}/sentiment\").json()"
   ]
  },
  {
   "cell_type": "markdown",
   "metadata": {},
   "source": [
    "## 7. Recommendations"
   ]
  },
  {
   "cell_type": "markdown",
   "metadata": {},
   "source": [
    "The recommendation system applied uses the cosine similarity distance. It is thus a judgment of orientation and not magnitude: two vectors with the same orientation have a cosine similarity of 1, two vectors oriented at 90° relative to each other have a similarity of 0, and two vectors diametrically opposed have a similarity of -1, independent of their magnitude. All the words a user says are characterised by a vector where the value in each dimension corresponds to the number of times the term appears in the document."
   ]
  },
  {
   "cell_type": "code",
   "execution_count": 14,
   "metadata": {
    "scrolled": false
   },
   "outputs": [
    {
     "data": {
      "text/plain": [
       "{'Result': [['5eada20c9b27ff529f8d56b9', 0.37665889234460664],\n",
       "  ['5eada20c9b27ff529f8d56ba', 0.29834709485930816],\n",
       "  ['5eadcc0b4645f34974e56780', 0.28847487433165775]]}"
      ]
     },
     "execution_count": 14,
     "metadata": {},
     "output_type": "execute_result"
    }
   ],
   "source": [
    "user_id='5eada20b9b27ff529f8d56b5'\n",
    "requests.get(f\"http://localhost:3500/user/{user_id}/recommend\").json()"
   ]
  },
  {
   "cell_type": "markdown",
   "metadata": {},
   "source": [
    "What happens if the user id is not in the database?"
   ]
  },
  {
   "cell_type": "code",
   "execution_count": 15,
   "metadata": {},
   "outputs": [
    {
     "data": {
      "text/plain": [
       "{'message': 'user_id not found', 'status': 'error'}"
      ]
     },
     "execution_count": 15,
     "metadata": {},
     "output_type": "execute_result"
    }
   ],
   "source": [
    "user_id='5ead5c130cf284fc1a25cab0'\n",
    "requests.get(f\"http://localhost:3500/user/{user_id}/recommend\").json()"
   ]
  }
 ],
 "metadata": {
  "kernelspec": {
   "display_name": "analytics_env",
   "language": "python",
   "name": "analytics_env"
  },
  "language_info": {
   "codemirror_mode": {
    "name": "ipython",
    "version": 3
   },
   "file_extension": ".py",
   "mimetype": "text/x-python",
   "name": "python",
   "nbconvert_exporter": "python",
   "pygments_lexer": "ipython3",
   "version": "3.8.2"
  }
 },
 "nbformat": 4,
 "nbformat_minor": 4
}
