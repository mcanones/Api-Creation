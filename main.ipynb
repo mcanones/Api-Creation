{
 "cells": [
  {
   "cell_type": "markdown",
   "metadata": {},
   "source": [
    "# API project"
   ]
  },
  {
   "cell_type": "markdown",
   "metadata": {},
   "source": [
    "## 1. Import libraries"
   ]
  },
  {
   "cell_type": "code",
   "execution_count": 1,
   "metadata": {},
   "outputs": [],
   "source": [
    "import requests\n",
    "from bson import ObjectId"
   ]
  },
  {
   "cell_type": "markdown",
   "metadata": {},
   "source": [
    "## 1. Create Users"
   ]
  },
  {
   "cell_type": "markdown",
   "metadata": {},
   "source": [
    "The objective of this request is to add a new user in the table `Users`. You can add few users with the same name, but they will have different **_id**."
   ]
  },
  {
   "cell_type": "code",
   "execution_count": 139,
   "metadata": {},
   "outputs": [
    {
     "name": "stdout",
     "output_type": "stream",
     "text": [
      "{'Result': 'Inserted Geralt - ID: 5eada20b9b27ff529f8d56b5'}\n",
      "{'Result': 'Inserted Triss - ID: 5eada20b9b27ff529f8d56b6'}\n",
      "{'Result': 'Inserted Jaskier - ID: 5eada20b9b27ff529f8d56b7'}\n",
      "{'Result': 'Inserted Filavandrel - ID: 5eada20c9b27ff529f8d56b8'}\n",
      "{'Result': 'Inserted Toruviel - ID: 5eada20c9b27ff529f8d56b9'}\n",
      "{'Result': 'Inserted Torque - ID: 5eada20c9b27ff529f8d56ba'}\n"
     ]
    }
   ],
   "source": [
    "users=[\"Geralt\", \"Triss\", \"Jaskier\", \"Filavandrel\", \"Toruviel\", \"Torque\"]\n",
    "for name in users:\n",
    "    print(requests.get(f\"http://localhost:3500/user/create/{name}\").json())  "
   ]
  },
  {
   "cell_type": "code",
   "execution_count": 37,
   "metadata": {},
   "outputs": [
    {
     "name": "stdout",
     "output_type": "stream",
     "text": [
      "{'Result': 'Inserted Tissaia - ID: 5eadcc0b4645f34974e56780'}\n",
      "{'Result': 'Inserted Yennefer - ID: 5eadcc0b4645f34974e56781'}\n",
      "{'Result': 'Inserted Fringilla - ID: 5eadcc0b4645f34974e56782'}\n",
      "{'Result': 'Inserted Anica - ID: 5eadcc0b4645f34974e56783'}\n"
     ]
    }
   ],
   "source": [
    "users=[\"Tissaia\", \"Yennefer\", \"Fringilla\", \"Anica\"]\n",
    "for name in users:\n",
    "    print(requests.get(f\"http://localhost:3500/user/create/{name}\").json())  "
   ]
  },
  {
   "cell_type": "markdown",
   "metadata": {},
   "source": [
    "## 2. Create Chat"
   ]
  },
  {
   "cell_type": "markdown",
   "metadata": {},
   "source": [
    "Knowing the users (IDs) to be in the chat, this request introduces a row in the `Chats` table with the specified ids in the column **members**."
   ]
  },
  {
   "cell_type": "code",
   "execution_count": 38,
   "metadata": {},
   "outputs": [
    {
     "data": {
      "text/plain": [
       "{'result': 'You have created a chat',\n",
       " 'Chat ID': '5eadcc454645f34974e56784',\n",
       " 'Members': 4}"
      ]
     },
     "execution_count": 38,
     "metadata": {},
     "output_type": "execute_result"
    }
   ],
   "source": [
    "users_chat =['5eadcc0b4645f34974e56780',\n",
    "             '5eadcc0b4645f34974e56781',\n",
    "             '5eadcc0b4645f34974e56782',\n",
    "             '5eadcc0b4645f34974e56783']\n",
    "users_chat = ','.join(users_chat)\n",
    "parameters = {\"users_ids\":users_chat}\n",
    "requests.get(\"http://localhost:3500/chat/create\", params=parameters).json()"
   ]
  },
  {
   "cell_type": "markdown",
   "metadata": {},
   "source": [
    "What happens if you try to create a chat with users that are not in the database?"
   ]
  },
  {
   "cell_type": "code",
   "execution_count": 141,
   "metadata": {},
   "outputs": [
    {
     "data": {
      "text/plain": [
       "{'Result': 'You are trying to create a chat with users that are not in de DB'}"
      ]
     },
     "execution_count": 141,
     "metadata": {},
     "output_type": "execute_result"
    }
   ],
   "source": [
    "users_chat =['5ead8f1f2eb08989c88ecdc1',\n",
    "             '5ead8f1f2eb08989c88ecdd2',\n",
    "             '5ead8f1f2eb08989c88ecdd3']\n",
    "users_chat = ','.join(users_chat)\n",
    "parameters = {\"users_ids\":users_chat}\n",
    "requests.get(\"http://localhost:3500/chat/create\", params=parameters).json()"
   ]
  },
  {
   "cell_type": "markdown",
   "metadata": {},
   "source": [
    "## 3. Add user in a pre-existing chat"
   ]
  },
  {
   "cell_type": "markdown",
   "metadata": {},
   "source": [
    "Let's say a new member entered in one of the chats. Let's introduce this member in the members colum in the `Chats` table."
   ]
  },
  {
   "cell_type": "code",
   "execution_count": 216,
   "metadata": {
    "scrolled": true
   },
   "outputs": [
    {
     "data": {
      "text/plain": [
       "{'result': 'You have introduced a user',\n",
       " 'In Chat': '5eadb94fbbbaa3faa1599730',\n",
       " 'User ID': '5eada20c9b27ff529f8d56ba'}"
      ]
     },
     "execution_count": 216,
     "metadata": {},
     "output_type": "execute_result"
    }
   ],
   "source": [
    "parameters = {\"user_id\":'5eada20c9b27ff529f8d56ba'}\n",
    "chat_id='5eadb94fbbbaa3faa1599730'\n",
    "requests.get(f\"http://localhost:3500/chat/{chat_id}/adduser\", params=parameters).json()"
   ]
  },
  {
   "cell_type": "markdown",
   "metadata": {},
   "source": [
    "What happens if you try to add an user that is not in the database or is already a chat member?"
   ]
  },
  {
   "cell_type": "code",
   "execution_count": 217,
   "metadata": {},
   "outputs": [
    {
     "data": {
      "text/plain": [
       "{'message': 'User_id is not in the DB', 'status': 'error'}"
      ]
     },
     "execution_count": 217,
     "metadata": {},
     "output_type": "execute_result"
    }
   ],
   "source": [
    "parameters = {\"user_id\":'5ead8f1f2eb08989c88ecdd7'} #Not in the database\n",
    "chat_id='5eadb94fbbbaa3faa1599730' \n",
    "requests.get(f\"http://localhost:3500/chat/{chat_id}/adduser\", params=parameters).json()"
   ]
  },
  {
   "cell_type": "code",
   "execution_count": 218,
   "metadata": {},
   "outputs": [
    {
     "data": {
      "text/plain": [
       "{'message': 'User_id is already in the chat', 'status': 'error'}"
      ]
     },
     "execution_count": 218,
     "metadata": {},
     "output_type": "execute_result"
    }
   ],
   "source": [
    "parameters = {\"user_id\":'5eada20b9b27ff529f8d56b7'} #Already chat member\n",
    "chat_id='5eadb94fbbbaa3faa1599730' \n",
    "requests.get(f\"http://localhost:3500/chat/{chat_id}/adduser\", params=parameters).json()"
   ]
  },
  {
   "cell_type": "markdown",
   "metadata": {},
   "source": [
    "What happens if you make a mistake and you put a chat id that is not in the database?"
   ]
  },
  {
   "cell_type": "code",
   "execution_count": 219,
   "metadata": {},
   "outputs": [
    {
     "data": {
      "text/plain": [
       "{'message': 'Chat_id not found', 'status': 'error'}"
      ]
     },
     "execution_count": 219,
     "metadata": {},
     "output_type": "execute_result"
    }
   ],
   "source": [
    "parameters = {\"user_id\":'5ead8f1f2eb08989c88ecdcf'} \n",
    "chat_id='5eada2509b27ff529f8d56ba' #Not in database\n",
    "requests.get(f\"http://localhost:3500/chat/{chat_id}/adduser\", params=parameters).json()"
   ]
  },
  {
   "cell_type": "markdown",
   "metadata": {},
   "source": [
    "## 4. Add message"
   ]
  },
  {
   "cell_type": "markdown",
   "metadata": {},
   "source": [
    "With this request a row will be introduced in the table `Messages`. When introducing a message, a pre-trained neural network with NLTK sentiment analysis studies the content in the text and returns a score (positive, neutral or negative content)."
   ]
  },
  {
   "cell_type": "code",
   "execution_count": 67,
   "metadata": {},
   "outputs": [
    {
     "data": {
      "text/plain": [
       "{'Result': 'You have inserted a message',\n",
       " 'With ID': '5eadd7c4dc7c44bf4f9feb44',\n",
       " 'In Chat': '5eadcc454645f34974e56784',\n",
       " 'From User': '5eadcc0b4645f34974e56780',\n",
       " 'Name User': 'Tissaia',\n",
       " 'Content': 'Your first night here at Aretuza, you tried to kill yourself. And tonight, you almost killed someone else. It is your job to control chaos, not become it.',\n",
       " 'Date': '2020-05-02 22:27:49.018029'}"
      ]
     },
     "execution_count": 67,
     "metadata": {},
     "output_type": "execute_result"
    }
   ],
   "source": [
    "#Tissaia\n",
    "data={'user_id':'5eadcc0b4645f34974e56780',\n",
    "      'text': 'Your first night here at Aretuza, you tried to kill yourself. And tonight, you almost killed someone else. It is your job to control chaos, not become it.'}\n",
    "chat_id='5eadcc454645f34974e56784'\n",
    "requests.post(f\"http://localhost:3500/chat/{chat_id}/addmessage\", data=data).json()"
   ]
  },
  {
   "cell_type": "code",
   "execution_count": 66,
   "metadata": {},
   "outputs": [
    {
     "data": {
      "text/plain": [
       "{'Result': 'You have inserted a message',\n",
       " 'With ID': '5eadd7b6dc7c44bf4f9feb43',\n",
       " 'In Chat': '5eadcc454645f34974e56784',\n",
       " 'From User': '5eadcc0b4645f34974e56781',\n",
       " 'Name User': 'Yennefer',\n",
       " 'Content': 'Like us?',\n",
       " 'Date': '2020-05-02 22:27:34.206276'}"
      ]
     },
     "execution_count": 66,
     "metadata": {},
     "output_type": "execute_result"
    }
   ],
   "source": [
    "#Yennefer\n",
    "data={'user_id':'5eadcc0b4645f34974e56781',\n",
    "      'text':'Like us?'}\n",
    "chat_id='5eadcc454645f34974e56784'\n",
    "requests.post(f\"http://localhost:3500/chat/{chat_id}/addmessage\", data=data).json()"
   ]
  },
  {
   "cell_type": "code",
   "execution_count": 57,
   "metadata": {},
   "outputs": [
    {
     "data": {
      "text/plain": [
       "{'Result': 'You have inserted a message',\n",
       " 'With ID': '5eadd721dc7c44bf4f9feb3a',\n",
       " 'In Chat': '5eadcc454645f34974e56784',\n",
       " 'From User': '5eadcc0b4645f34974e56782',\n",
       " 'Name User': 'Fringilla',\n",
       " 'Content': 'She’s still breathing.',\n",
       " 'Date': '2020-05-02 22:25:05.228338'}"
      ]
     },
     "execution_count": 57,
     "metadata": {},
     "output_type": "execute_result"
    }
   ],
   "source": [
    "#Fringilla\n",
    "data={'user_id':'5eadcc0b4645f34974e56782',\n",
    "      'text':'She’s still breathing.'}\n",
    "chat_id='5eadcc454645f34974e56784'\n",
    "requests.post(f\"http://localhost:3500/chat/{chat_id}/addmessage\", data=data).json()"
   ]
  },
  {
   "cell_type": "code",
   "execution_count": 61,
   "metadata": {},
   "outputs": [
    {
     "data": {
      "text/plain": [
       "{'Result': 'You have inserted a message',\n",
       " 'With ID': '5eadd75bdc7c44bf4f9feb3e',\n",
       " 'In Chat': '5eadcc454645f34974e56784',\n",
       " 'From User': '5eadcc0b4645f34974e56782',\n",
       " 'Name User': 'Fringilla',\n",
       " 'Content': 'I did it.',\n",
       " 'Date': '2020-05-02 22:26:04.046098'}"
      ]
     },
     "execution_count": 61,
     "metadata": {},
     "output_type": "execute_result"
    }
   ],
   "source": [
    "#Anica\n",
    "data={'user_id':'5eadcc0b4645f34974e56782',\n",
    "      'text':'I did it.'}\n",
    "chat_id='5eadcc454645f34974e56784'\n",
    "requests.post(f\"http://localhost:3500/chat/{chat_id}/addmessage\", data=data).json()"
   ]
  },
  {
   "cell_type": "markdown",
   "metadata": {
    "scrolled": false
   },
   "source": [
    "`#Geralt\n",
    "data={'user_id':'5eada20b9b27ff529f8d56b5',\n",
    "      'text':''}\n",
    "chat_id='5eadb94fbbbaa3faa1599730'\n",
    "requests.post(f\"http://localhost:3500/chat/{chat_id}/addmessage\", data=data).json()`"
   ]
  },
  {
   "cell_type": "markdown",
   "metadata": {},
   "source": [
    "`#Jaskier\n",
    "data={'user_id':'5eada20b9b27ff529f8d56b7',\n",
    "      'text':''}\n",
    "chat_id='5eadb94fbbbaa3faa1599730'\n",
    "requests.post(f\"http://localhost:3500/chat/{chat_id}/addmessage\", data=data).json()`"
   ]
  },
  {
   "cell_type": "markdown",
   "metadata": {},
   "source": [
    "`#Toruviel\n",
    "data={'user_id':'5eada20c9b27ff529f8d56b9',\n",
    "      'text':''}\n",
    "chat_id='5eadb94fbbbaa3faa1599730'\n",
    "requests.post(f\"http://localhost:3500/chat/{chat_id}/addmessage\", data=data).json()`"
   ]
  },
  {
   "cell_type": "markdown",
   "metadata": {},
   "source": [
    "`#Filavandrel\n",
    "data={'user_id':'5eada20c9b27ff529f8d56b8',\n",
    "      'text':''}\n",
    "chat_id='5eadb94fbbbaa3faa1599730'\n",
    "requests.post(f\"http://localhost:3500/chat/{chat_id}/addmessage\", data=data).json()`"
   ]
  },
  {
   "cell_type": "markdown",
   "metadata": {},
   "source": [
    "`#Torque\n",
    "data={'user_id':'5eada20c9b27ff529f8d56ba',\n",
    "      'text':''\n",
    "requests.post(f\"http://localhost:3500/chat/{chat_id}/addmessage\", data=data).json()`"
   ]
  },
  {
   "cell_type": "markdown",
   "metadata": {},
   "source": [
    "## 5. Obtain all the messages in a chat "
   ]
  },
  {
   "cell_type": "code",
   "execution_count": 39,
   "metadata": {
    "scrolled": true
   },
   "outputs": [
    {
     "data": {
      "text/plain": [
       "[{'name': 'Jaskier', 'message': 'This is the part where we escape.'},\n",
       " {'name': 'Geralt', 'message': 'This is the part where they kill us.'},\n",
       " {'name': 'Jaskier', 'message': 'Who’s they?'},\n",
       " {'name': 'Toruviel', 'message': 'Beast!'},\n",
       " {'name': 'Geralt', 'message': 'Elves.'},\n",
       " {'name': 'Jaskier',\n",
       "  'message': 'Oi, that’s my lute. Give that back. Quick, Geralt. Do your- your witchering-'},\n",
       " {'name': 'Geralt', 'message': ' Shut up!'},\n",
       " {'name': 'Jaskier', 'message': 'No.'},\n",
       " {'name': 'Toruviel', 'message': 'You shut up!'},\n",
       " {'name': 'Jaskier',\n",
       "  'message': ' my Elder speech is rough. I only got part of that.'},\n",
       " {'name': 'Toruviel', 'message': 'Humans, shut up.'},\n",
       " {'name': 'Jaskier', 'message': 'Ah, got it, thanks so much.'},\n",
       " {'name': 'Toruviel', 'message': 'Do you wanna die right now?'},\n",
       " {'name': 'Geralt', 'message': 'As opposed to later?'},\n",
       " {'name': 'Jaskier', 'message': 'No, please, not the...'},\n",
       " {'name': 'Geralt', 'message': 'Leave off! He’s just a bard.'},\n",
       " {'name': 'Toruviel',\n",
       "  'message': 'You don’t deserve the air your breathe. Everything you touch, you destroy.'},\n",
       " {'name': 'Jaskier',\n",
       "  'message': 'You hide in your golden palaces. You beat a bound man, too scared to even look him in the eye!'},\n",
       " {'name': 'Toruviel',\n",
       "  'message': 'Do you like my place? Hmm? Does it live up to the tales you humans tell?'},\n",
       " {'name': 'Jaskier', 'message': 'Yeah, take that, pointy.'},\n",
       " {'name': 'Jaskier', 'message': 'what’s wrong with her?'},\n",
       " {'name': 'Filavandrel', 'message': 'She’s sick.'},\n",
       " {'name': 'Jaskier', 'message': 'Oh, and who’s this?'},\n",
       " {'name': 'Torque', 'message': 'He’s Filavandrel, King of the Elves.'},\n",
       " {'name': 'Filavandrel', 'message': 'Not a king. Not by choice.'},\n",
       " {'name': 'Geralt', 'message': 'You were stealing for them.'},\n",
       " {'name': 'Torque',\n",
       "  'message': 'I felt for them. They were forced out of Dol Blathanna.'},\n",
       " {'name': 'Jaskier', 'message': 'Forced out? No, they chose'},\n",
       " {'name': 'Filavandrel',\n",
       "  'message': 'Do you know anyone that would choose to leave their home? To Starve? To have a Sylvan steal for them?'},\n",
       " {'name': 'Torque', 'message': 'Toruviel, no one was supposed to get hurt.'},\n",
       " {'name': 'Toruviel',\n",
       "  'message': ' What’s two humans in the ground when countless elves have died?'},\n",
       " {'name': 'Geralt', 'message': 'One human. And you can let him go.'}]"
      ]
     },
     "execution_count": 39,
     "metadata": {},
     "output_type": "execute_result"
    }
   ],
   "source": [
    "chat_id='5eadb94fbbbaa3faa1599730'\n",
    "requests.get(f\"http://localhost:3500/chat/{chat_id}/list\", data=data).json()"
   ]
  },
  {
   "cell_type": "markdown",
   "metadata": {},
   "source": [
    "What happens if you try to get the messages of a chat that is not in the DB?"
   ]
  },
  {
   "cell_type": "code",
   "execution_count": 44,
   "metadata": {},
   "outputs": [
    {
     "data": {
      "text/plain": [
       "{'message': 'chat_id not found', 'status': 'error'}"
      ]
     },
     "execution_count": 44,
     "metadata": {},
     "output_type": "execute_result"
    }
   ],
   "source": [
    "chat_id='5eadb94fbbbaa3faa1599731'\n",
    "requests.get(f\"http://localhost:3500/chat/{chat_id}/list\", data=data).json()"
   ]
  },
  {
   "cell_type": "markdown",
   "metadata": {},
   "source": [
    "## 6. Sentiments in a chat"
   ]
  },
  {
   "cell_type": "code",
   "execution_count": 46,
   "metadata": {},
   "outputs": [
    {
     "data": {
      "text/plain": [
       "{'result': [{'name': 'Jaskier',\n",
       "   'message': 'This is the part where we escape.',\n",
       "   'negative_score': 0.0,\n",
       "   'neutral_score': 0.541,\n",
       "   'positive_score': 0.459},\n",
       "  {'name': 'Geralt',\n",
       "   'message': 'This is the part where they kill us.',\n",
       "   'negative_score': 0.61,\n",
       "   'neutral_score': 0.39,\n",
       "   'positive_score': 0.0},\n",
       "  {'name': 'Jaskier',\n",
       "   'message': 'Who’s they?',\n",
       "   'negative_score': 0.0,\n",
       "   'neutral_score': 1.0,\n",
       "   'positive_score': 0.0},\n",
       "  {'name': 'Toruviel',\n",
       "   'message': 'Beast!',\n",
       "   'negative_score': 0.0,\n",
       "   'neutral_score': 1.0,\n",
       "   'positive_score': 0.0},\n",
       "  {'name': 'Geralt',\n",
       "   'message': 'Elves.',\n",
       "   'negative_score': 0.0,\n",
       "   'neutral_score': 1.0,\n",
       "   'positive_score': 0.0},\n",
       "  {'name': 'Jaskier',\n",
       "   'message': 'Oi, that’s my lute. Give that back. Quick, Geralt. Do your- your witchering-',\n",
       "   'negative_score': 0.0,\n",
       "   'neutral_score': 1.0,\n",
       "   'positive_score': 0.0},\n",
       "  {'name': 'Geralt',\n",
       "   'message': ' Shut up!',\n",
       "   'negative_score': 0.0,\n",
       "   'neutral_score': 1.0,\n",
       "   'positive_score': 0.0},\n",
       "  {'name': 'Jaskier',\n",
       "   'message': 'No.',\n",
       "   'negative_score': 1.0,\n",
       "   'neutral_score': 0.0,\n",
       "   'positive_score': 0.0},\n",
       "  {'name': 'Toruviel',\n",
       "   'message': 'You shut up!',\n",
       "   'negative_score': 0.0,\n",
       "   'neutral_score': 1.0,\n",
       "   'positive_score': 0.0},\n",
       "  {'name': 'Jaskier',\n",
       "   'message': ' my Elder speech is rough. I only got part of that.',\n",
       "   'negative_score': 0.0,\n",
       "   'neutral_score': 1.0,\n",
       "   'positive_score': 0.0},\n",
       "  {'name': 'Toruviel',\n",
       "   'message': 'Humans, shut up.',\n",
       "   'negative_score': 0.0,\n",
       "   'neutral_score': 1.0,\n",
       "   'positive_score': 0.0},\n",
       "  {'name': 'Jaskier',\n",
       "   'message': 'Ah, got it, thanks so much.',\n",
       "   'negative_score': 0.0,\n",
       "   'neutral_score': 0.508,\n",
       "   'positive_score': 0.492},\n",
       "  {'name': 'Toruviel',\n",
       "   'message': 'Do you wanna die right now?',\n",
       "   'negative_score': 0.565,\n",
       "   'neutral_score': 0.435,\n",
       "   'positive_score': 0.0},\n",
       "  {'name': 'Geralt',\n",
       "   'message': 'As opposed to later?',\n",
       "   'negative_score': 0.0,\n",
       "   'neutral_score': 1.0,\n",
       "   'positive_score': 0.0},\n",
       "  {'name': 'Jaskier',\n",
       "   'message': 'No, please, not the...',\n",
       "   'negative_score': 0.489,\n",
       "   'neutral_score': 0.0,\n",
       "   'positive_score': 0.511},\n",
       "  {'name': 'Geralt',\n",
       "   'message': 'Leave off! He’s just a bard.',\n",
       "   'negative_score': 0.375,\n",
       "   'neutral_score': 0.625,\n",
       "   'positive_score': 0.0},\n",
       "  {'name': 'Toruviel',\n",
       "   'message': 'You don’t deserve the air your breathe. Everything you touch, you destroy.',\n",
       "   'negative_score': 0.333,\n",
       "   'neutral_score': 0.667,\n",
       "   'positive_score': 0.0},\n",
       "  {'name': 'Jaskier',\n",
       "   'message': 'You hide in your golden palaces. You beat a bound man, too scared to even look him in the eye!',\n",
       "   'negative_score': 0.338,\n",
       "   'neutral_score': 0.662,\n",
       "   'positive_score': 0.0},\n",
       "  {'name': 'Toruviel',\n",
       "   'message': 'Do you like my place? Hmm? Does it live up to the tales you humans tell?',\n",
       "   'negative_score': 0.0,\n",
       "   'neutral_score': 0.762,\n",
       "   'positive_score': 0.238},\n",
       "  {'name': 'Jaskier',\n",
       "   'message': 'Yeah, take that, pointy.',\n",
       "   'negative_score': 0.0,\n",
       "   'neutral_score': 0.476,\n",
       "   'positive_score': 0.524},\n",
       "  {'name': 'Jaskier',\n",
       "   'message': 'what’s wrong with her?',\n",
       "   'negative_score': 0.756,\n",
       "   'neutral_score': 0.244,\n",
       "   'positive_score': 0.0},\n",
       "  {'name': 'Filavandrel',\n",
       "   'message': 'She’s sick.',\n",
       "   'negative_score': 0.767,\n",
       "   'neutral_score': 0.233,\n",
       "   'positive_score': 0.0},\n",
       "  {'name': 'Jaskier',\n",
       "   'message': 'Oh, and who’s this?',\n",
       "   'negative_score': 0.0,\n",
       "   'neutral_score': 1.0,\n",
       "   'positive_score': 0.0},\n",
       "  {'name': 'Torque',\n",
       "   'message': 'He’s Filavandrel, King of the Elves.',\n",
       "   'negative_score': 0.0,\n",
       "   'neutral_score': 1.0,\n",
       "   'positive_score': 0.0},\n",
       "  {'name': 'Filavandrel',\n",
       "   'message': 'Not a king. Not by choice.',\n",
       "   'negative_score': 0.0,\n",
       "   'neutral_score': 1.0,\n",
       "   'positive_score': 0.0},\n",
       "  {'name': 'Geralt',\n",
       "   'message': 'You were stealing for them.',\n",
       "   'negative_score': 0.787,\n",
       "   'neutral_score': 0.213,\n",
       "   'positive_score': 0.0},\n",
       "  {'name': 'Torque',\n",
       "   'message': 'I felt for them. They were forced out of Dol Blathanna.',\n",
       "   'negative_score': 0.429,\n",
       "   'neutral_score': 0.571,\n",
       "   'positive_score': 0.0},\n",
       "  {'name': 'Jaskier',\n",
       "   'message': 'Forced out? No, they chose',\n",
       "   'negative_score': 0.839,\n",
       "   'neutral_score': 0.161,\n",
       "   'positive_score': 0.0},\n",
       "  {'name': 'Filavandrel',\n",
       "   'message': 'Do you know anyone that would choose to leave their home? To Starve? To have a Sylvan steal for them?',\n",
       "   'negative_score': 0.477,\n",
       "   'neutral_score': 0.523,\n",
       "   'positive_score': 0.0},\n",
       "  {'name': 'Torque',\n",
       "   'message': 'Toruviel, no one was supposed to get hurt.',\n",
       "   'negative_score': 0.459,\n",
       "   'neutral_score': 0.541,\n",
       "   'positive_score': 0.0},\n",
       "  {'name': 'Toruviel',\n",
       "   'message': ' What’s two humans in the ground when countless elves have died?',\n",
       "   'negative_score': 0.375,\n",
       "   'neutral_score': 0.625,\n",
       "   'positive_score': 0.0},\n",
       "  {'name': 'Geralt',\n",
       "   'message': 'One human. And you can let him go.',\n",
       "   'negative_score': 0.0,\n",
       "   'neutral_score': 1.0,\n",
       "   'positive_score': 0.0}]}"
      ]
     },
     "execution_count": 46,
     "metadata": {},
     "output_type": "execute_result"
    }
   ],
   "source": [
    "chat_id='5eadb94fbbbaa3faa1599730'\n",
    "requests.get(f\"http://localhost:3500/chat/{chat_id}/sentiment\").json()"
   ]
  },
  {
   "cell_type": "markdown",
   "metadata": {},
   "source": [
    "What happens if you try to get the sentimens of a chat that is not in the DB?"
   ]
  },
  {
   "cell_type": "code",
   "execution_count": 191,
   "metadata": {
    "scrolled": true
   },
   "outputs": [
    {
     "data": {
      "text/plain": [
       "{'message': 'chat_id not found', 'status': 'error'}"
      ]
     },
     "execution_count": 191,
     "metadata": {},
     "output_type": "execute_result"
    }
   ],
   "source": [
    "chat_id='5eac4b041d3b47e21798aba4'\n",
    "requests.get(f\"http://localhost:3500/chat/{chat_id}/sentiment\").json()"
   ]
  },
  {
   "cell_type": "markdown",
   "metadata": {},
   "source": [
    "## 7. Recommendations"
   ]
  },
  {
   "cell_type": "code",
   "execution_count": 68,
   "metadata": {
    "scrolled": false
   },
   "outputs": [
    {
     "data": {
      "text/plain": [
       "{'result': [['5eada20c9b27ff529f8d56b9', 0.37665889234460664],\n",
       "  ['5eada20c9b27ff529f8d56ba', 0.29834709485930816],\n",
       "  ['5eadcc0b4645f34974e56781', 0.29277002188455997]]}"
      ]
     },
     "execution_count": 68,
     "metadata": {},
     "output_type": "execute_result"
    }
   ],
   "source": [
    "user_id='5eada20b9b27ff529f8d56b5'\n",
    "requests.get(f\"http://localhost:3500/user/{user_id}/recommend\").json()"
   ]
  },
  {
   "cell_type": "markdown",
   "metadata": {},
   "source": [
    "What happens if the user id is not in the database?"
   ]
  },
  {
   "cell_type": "code",
   "execution_count": 48,
   "metadata": {},
   "outputs": [
    {
     "data": {
      "text/plain": [
       "{'message': 'user_id not found', 'status': 'error'}"
      ]
     },
     "execution_count": 48,
     "metadata": {},
     "output_type": "execute_result"
    }
   ],
   "source": [
    "user_id='5ead5c130cf284fc1a25cab0'\n",
    "requests.get(f\"http://localhost:3500/user/{user_id}/recommend\").json()"
   ]
  }
 ],
 "metadata": {
  "kernelspec": {
   "display_name": "analytics_env",
   "language": "python",
   "name": "analytics_env"
  },
  "language_info": {
   "codemirror_mode": {
    "name": "ipython",
    "version": 3
   },
   "file_extension": ".py",
   "mimetype": "text/x-python",
   "name": "python",
   "nbconvert_exporter": "python",
   "pygments_lexer": "ipython3",
   "version": "3.8.2"
  }
 },
 "nbformat": 4,
 "nbformat_minor": 4
}
